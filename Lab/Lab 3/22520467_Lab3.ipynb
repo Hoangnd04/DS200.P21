{
  "nbformat": 4,
  "nbformat_minor": 0,
  "metadata": {
    "colab": {
      "provenance": []
    },
    "kernelspec": {
      "name": "python3",
      "display_name": "Python 3"
    },
    "language_info": {
      "name": "python"
    }
  },
  "cells": [
    {
      "cell_type": "code",
      "execution_count": null,
      "metadata": {
        "colab": {
          "base_uri": "https://localhost:8080/"
        },
        "id": "g_5-HyhICUHl",
        "outputId": "36fa1fe6-1c98-41da-904d-264118d5a880"
      },
      "outputs": [
        {
          "output_type": "stream",
          "name": "stdout",
          "text": [
            "Collecting findspark\n",
            "  Downloading findspark-2.0.1-py2.py3-none-any.whl.metadata (352 bytes)\n",
            "Downloading findspark-2.0.1-py2.py3-none-any.whl (4.4 kB)\n",
            "Installing collected packages: findspark\n",
            "Successfully installed findspark-2.0.1\n"
          ]
        }
      ],
      "source": [
        "!pip install findspark"
      ]
    },
    {
      "cell_type": "code",
      "source": [
        "mount_point = \"/content/drive\"\n",
        "from google.colab import drive\n",
        "drive.mount(mount_point)"
      ],
      "metadata": {
        "colab": {
          "base_uri": "https://localhost:8080/"
        },
        "id": "a0LLBr3CCbDg",
        "outputId": "3453870e-d2ab-43e4-f1ad-76af7fd33acc"
      },
      "execution_count": null,
      "outputs": [
        {
          "output_type": "stream",
          "name": "stdout",
          "text": [
            "Mounted at /content/drive\n"
          ]
        }
      ]
    },
    {
      "cell_type": "code",
      "source": [
        "import findspark\n",
        "findspark.init()\n",
        "import pyspark\n",
        "from pyspark.sql import SparkSession\n",
        "from pyspark.sql.functions import from_unixtime\n",
        "from datetime import datetime\n",
        "from pyspark.sql.window import Window\n",
        "from pyspark.sql.functions import col, date_format, min, max, count, sum, avg, count_distinct, month, to_date, dense_rank, row_number, regexp_extract, explode, split, first, from_unixtime, year, desc, collect_list, collect_set, array_intersect, size, round, sum as spark_sum, when, coalesce, lit"
      ],
      "metadata": {
        "id": "gl0lp1k0CgWG"
      },
      "execution_count": null,
      "outputs": []
    },
    {
      "cell_type": "code",
      "source": [
        "spark = SparkSession.builder.appName(\"Lab 3\").getOrCreate()"
      ],
      "metadata": {
        "id": "pocAj1IUEQTB"
      },
      "execution_count": null,
      "outputs": []
    },
    {
      "cell_type": "code",
      "source": [
        "customer_list_path =\"/content/drive/MyDrive/ds200/Lab3/data/Customer_List.csv\"\n",
        "order_items_path =\"/content/drive/MyDrive/ds200/Lab3/data/Order_Items.csv\"\n",
        "order_reviews_path =\"/content/drive/MyDrive/ds200/Lab3/data/Order_Reviews.csv\"\n",
        "orders_path =\"/content/drive/MyDrive/ds200/Lab3/data/Orders.csv\"\n",
        "products_path =\"/content/drive/MyDrive/ds200/Lab3/data/Products.csv\""
      ],
      "metadata": {
        "id": "AlHQEHr0GmTw"
      },
      "execution_count": null,
      "outputs": []
    },
    {
      "cell_type": "markdown",
      "source": [
        "#### 1.\tHãy đọc dữ liệu từ các file csv, sử dụng tự suy ra kiểu dữ liệu cho mỗi cột."
      ],
      "metadata": {
        "id": "yMtDQUX1JiAq"
      }
    },
    {
      "cell_type": "code",
      "source": [
        "customer_list_df = spark.read.csv(customer_list_path, header=True, inferSchema=True, sep=\";\")\n",
        "order_items_df = spark.read.csv(order_items_path, header=True, inferSchema=True, sep=\";\")\n",
        "order_reviews_df = spark.read.csv(order_reviews_path, header=True, inferSchema=True, sep=\";\")\n",
        "orders_df = spark.read.csv(orders_path, header=True, inferSchema=True, sep=\";\")\n",
        "products_df = spark.read.csv(products_path, header=True, inferSchema=True, sep=\";\")"
      ],
      "metadata": {
        "id": "5iUjZ2CjG7ln"
      },
      "execution_count": null,
      "outputs": []
    },
    {
      "cell_type": "code",
      "source": [
        "print(\"-----------------------------------------------------------------------\")\n",
        "print(\"customer_list_df\")\n",
        "customer_list_df.printSchema()\n",
        "print(\"-----------------------------------------------------------------------\")\n",
        "print(\"order_items_df\")\n",
        "order_items_df.printSchema()\n",
        "print(\"-----------------------------------------------------------------------\")\n",
        "print(\"order_reviews_df\")\n",
        "order_reviews_df.printSchema()\n",
        "print(\"-----------------------------------------------------------------------\")\n",
        "print(\"orders_df\")\n",
        "orders_df.printSchema()\n",
        "print(\"-----------------------------------------------------------------------\")\n",
        "print(\"products_df\")\n",
        "products_df.printSchema()\n",
        "print(\"-----------------------------------------------------------------------\")"
      ],
      "metadata": {
        "colab": {
          "base_uri": "https://localhost:8080/"
        },
        "id": "zxVDHEmmHJ-T",
        "outputId": "116f96e9-f569-4e98-80ac-b73f3c9ed6ab"
      },
      "execution_count": null,
      "outputs": [
        {
          "output_type": "stream",
          "name": "stdout",
          "text": [
            "-----------------------------------------------------------------------\n",
            "customer_list_df\n",
            "root\n",
            " |-- Customer_Trx_ID: string (nullable = true)\n",
            " |-- Subscriber_ID: string (nullable = true)\n",
            " |-- Subscribe_Date: date (nullable = true)\n",
            " |-- First_Order_Date: date (nullable = true)\n",
            " |-- Customer_Postal_Code: string (nullable = true)\n",
            " |-- Customer_City: string (nullable = true)\n",
            " |-- Customer_Country: string (nullable = true)\n",
            " |-- Customer_Country_Code: string (nullable = true)\n",
            " |-- Age: integer (nullable = true)\n",
            " |-- Gender: string (nullable = true)\n",
            "\n",
            "-----------------------------------------------------------------------\n",
            "order_items_df\n",
            "root\n",
            " |-- Order_ID: string (nullable = true)\n",
            " |-- Order_Item_ID: integer (nullable = true)\n",
            " |-- Product_ID: string (nullable = true)\n",
            " |-- Seller_ID: string (nullable = true)\n",
            " |-- Shipping_Limit_Date: timestamp (nullable = true)\n",
            " |-- Price: double (nullable = true)\n",
            " |-- Freight_Value: double (nullable = true)\n",
            "\n",
            "-----------------------------------------------------------------------\n",
            "order_reviews_df\n",
            "root\n",
            " |-- Review_ID: string (nullable = true)\n",
            " |-- Order_ID: string (nullable = true)\n",
            " |-- Review_Score: string (nullable = true)\n",
            " |-- Review_Comment_Title_En: string (nullable = true)\n",
            " |-- Review_Comment_Message_En: string (nullable = true)\n",
            " |-- Review_Creation_Date: string (nullable = true)\n",
            " |-- Review_Answer_Timestamp: timestamp (nullable = true)\n",
            "\n",
            "-----------------------------------------------------------------------\n",
            "orders_df\n",
            "root\n",
            " |-- Order_ID: string (nullable = true)\n",
            " |-- Customer_Trx_ID: string (nullable = true)\n",
            " |-- Order_Status: string (nullable = true)\n",
            " |-- Order_Purchase_Timestamp: timestamp (nullable = true)\n",
            " |-- Order_Approved_At: timestamp (nullable = true)\n",
            " |-- Order_Delivered_Carrier_Date: timestamp (nullable = true)\n",
            " |-- Order_Delivered_Customer_Date: timestamp (nullable = true)\n",
            " |-- Order_Estimated_Delivery_Date: timestamp (nullable = true)\n",
            "\n",
            "-----------------------------------------------------------------------\n",
            "products_df\n",
            "root\n",
            " |-- Product_ID: string (nullable = true)\n",
            " |-- Product_Category_Name: string (nullable = true)\n",
            " |-- Product_Weight_Gr: integer (nullable = true)\n",
            " |-- Product_Length_Cm: integer (nullable = true)\n",
            " |-- Product_Height_Cm: integer (nullable = true)\n",
            " |-- Product_Width_Cm: integer (nullable = true)\n",
            "\n",
            "-----------------------------------------------------------------------\n"
          ]
        }
      ]
    },
    {
      "cell_type": "markdown",
      "source": [
        "#### 2.\tThống kê tổng số đơn hàng, số lượng khách hàng và người bán."
      ],
      "metadata": {
        "id": "0UWNy3NUJm13"
      }
    },
    {
      "cell_type": "code",
      "source": [
        "total_orders = orders_df.count()\n",
        "total_customers = customer_list_df.distinct().count()\n",
        "total_sellers = order_items_df.select(\"Seller_ID\").distinct().count()\n",
        "\n",
        "print(\"Tổng số đơn hàng:\", total_orders)\n",
        "print(\"Tổng số khách hàng:\", total_customers)\n",
        "print(\"Tổng số người bán:\", total_sellers)"
      ],
      "metadata": {
        "colab": {
          "base_uri": "https://localhost:8080/"
        },
        "id": "rNdPtUyAHqIJ",
        "outputId": "f3fd9301-00a4-44d6-c96d-1c018cca97c9"
      },
      "execution_count": null,
      "outputs": [
        {
          "output_type": "stream",
          "name": "stdout",
          "text": [
            "Tổng số đơn hàng: 99441\n",
            "Tổng số khách hàng: 102727\n",
            "Tổng số người bán: 3095\n"
          ]
        }
      ]
    },
    {
      "cell_type": "markdown",
      "source": [
        "#### 3.\tPhân tích số lượng đơn hàng theo quốc gia, sắp xếp theo thứ tự giảm dần."
      ],
      "metadata": {
        "id": "IK8zxWvKKIBI"
      }
    },
    {
      "cell_type": "code",
      "source": [
        "total_orders_groupby_country_df = orders_df.join(customer_list_df.select(\"Customer_Trx_ID\", \"Customer_Country\"), on=\"Customer_Trx_ID\", how=\"left\")\n",
        "total_orders_groupby_country = total_orders_groupby_country_df.groupBy(\"Customer_Country\").agg(count(\"*\").alias(\"Total_Orders\")).orderBy(desc(\"Total_Orders\"))\n",
        "total_orders_groupby_country.show(n=50, truncate=False)"
      ],
      "metadata": {
        "colab": {
          "base_uri": "https://localhost:8080/"
        },
        "id": "wlhphCFgJ9tD",
        "outputId": "ad3b27d8-458f-41fa-faf7-b6963d1549c0"
      },
      "execution_count": null,
      "outputs": [
        {
          "output_type": "stream",
          "name": "stdout",
          "text": [
            "+----------------+------------+\n",
            "|Customer_Country|Total_Orders|\n",
            "+----------------+------------+\n",
            "|Germany         |41754       |\n",
            "|France          |12848       |\n",
            "|Netherlands     |11629       |\n",
            "|Belgium         |5464        |\n",
            "|Austria         |5043        |\n",
            "|Switzerland     |3640        |\n",
            "|United Kingdom  |3382        |\n",
            "|Poland          |2139        |\n",
            "|Czechia         |2034        |\n",
            "|Italy           |2025        |\n",
            "|Spain           |1651        |\n",
            "|Portugal        |1336        |\n",
            "|Sweden          |975         |\n",
            "|Denmark         |905         |\n",
            "|Serbia          |746         |\n",
            "|Norway          |716         |\n",
            "|Slovakia        |534         |\n",
            "|Slovenia        |495         |\n",
            "|Turkey          |485         |\n",
            "|Greece          |412         |\n",
            "|Lithuania       |351         |\n",
            "|Latvia          |280         |\n",
            "|Croatia         |254         |\n",
            "|Estonia         |148         |\n",
            "|Finland         |81          |\n",
            "|Luxembourg      |68          |\n",
            "|Andorra         |46          |\n",
            "+----------------+------------+\n",
            "\n"
          ]
        }
      ]
    },
    {
      "cell_type": "markdown",
      "source": [
        "#### 4.\tPhân tích số lượng đơn hàng nhóm theo năm, tháng đặt hàng (Hiển thị theo năm tăng dần, tháng giảm dần)."
      ],
      "metadata": {
        "id": "-cDmoy0PN9Df"
      }
    },
    {
      "cell_type": "code",
      "source": [
        "orders_with_year_month_df = orders_df.withColumn(\"Year\", year(\"Order_Purchase_Timestamp\")).withColumn(\"Month\", month(\"Order_Purchase_Timestamp\")).select(\"Order_ID\", \"Year\", \"Month\")\n",
        "orders_grouped = orders_with_year_month_df.groupBy(\"Year\", \"Month\").agg(count(\"Order_ID\").alias(\"Total_Orders\"))\n",
        "orders_sorted = orders_grouped.orderBy(\"Year\", desc(\"Month\"))\n",
        "orders_sorted.show(n=50, truncate=False)"
      ],
      "metadata": {
        "colab": {
          "base_uri": "https://localhost:8080/"
        },
        "id": "41EZpO26Mblv",
        "outputId": "1a880868-5c43-4e03-9240-dbc22e254f24"
      },
      "execution_count": null,
      "outputs": [
        {
          "output_type": "stream",
          "name": "stdout",
          "text": [
            "+----+-----+------------+\n",
            "|Year|Month|Total_Orders|\n",
            "+----+-----+------------+\n",
            "|2022|12   |1           |\n",
            "|2022|10   |324         |\n",
            "|2022|9    |4           |\n",
            "|2023|12   |5673        |\n",
            "|2023|11   |7544        |\n",
            "|2023|10   |4631        |\n",
            "|2023|9    |4285        |\n",
            "|2023|8    |4331        |\n",
            "|2023|7    |4026        |\n",
            "|2023|6    |3245        |\n",
            "|2023|5    |3700        |\n",
            "|2023|4    |2404        |\n",
            "|2023|3    |2682        |\n",
            "|2023|2    |1780        |\n",
            "|2023|1    |800         |\n",
            "|2024|10   |4           |\n",
            "|2024|9    |16          |\n",
            "|2024|8    |6512        |\n",
            "|2024|7    |6292        |\n",
            "|2024|6    |6167        |\n",
            "|2024|5    |6873        |\n",
            "|2024|4    |6939        |\n",
            "|2024|3    |7211        |\n",
            "|2024|2    |6728        |\n",
            "|2024|1    |7269        |\n",
            "+----+-----+------------+\n",
            "\n"
          ]
        }
      ]
    },
    {
      "cell_type": "markdown",
      "source": [
        "#### 5.\tThống kê điểm đánh giá trung bình, số lượng đánh giá theo từng mức (ví dụ: 1 đến 5)."
      ],
      "metadata": {
        "id": "t93gJcFWPlgL"
      }
    },
    {
      "cell_type": "code",
      "source": [
        "reviews_cleaned = order_reviews_df.withColumn(\"Review_Score_Int\", col(\"Review_Score\").cast(\"int\"))\n",
        "reviews_filtered = reviews_cleaned.filter((col(\"Review_Score_Int\").isNotNull()) & (col(\"Review_Score_Int\") >= 1) & (col(\"Review_Score_Int\") <= 5))\n",
        "overall_avg = reviews_filtered.agg(avg(\"Review_Score_Int\")).first()[0]\n",
        "review_stats = reviews_filtered.groupBy(\"Review_Score_Int\").agg(count(\"*\").alias(\"Total_Reviews\")).orderBy(\"Review_Score_Int\").collect()\n",
        "\n",
        "print(f\"- Average Review Score: {overall_avg}\")\n",
        "print(\"- Thống kê review_score:\")\n",
        "for row in review_stats:\n",
        "    print(f\"  Rating {row['Review_Score_Int']} : {row['Total_Reviews']}\")"
      ],
      "metadata": {
        "colab": {
          "base_uri": "https://localhost:8080/"
        },
        "id": "FVov4pHVfxR5",
        "outputId": "361760e3-8c5b-4a62-c03e-fbd74c8e0fc0"
      },
      "execution_count": null,
      "outputs": [
        {
          "output_type": "stream",
          "name": "stdout",
          "text": [
            "- Average Review Score: 4.0864214950162765\n",
            "- Thống kê review_score:\n",
            "  Rating 1 : 11424\n",
            "  Rating 2 : 3151\n",
            "  Rating 3 : 8179\n",
            "  Rating 4 : 19141\n",
            "  Rating 5 : 57328\n"
          ]
        }
      ]
    },
    {
      "cell_type": "markdown",
      "source": [
        "#### 6.\tTính doanh thu (giá sản phẩm + phí vận chuyển) trong năm 2024 và nhóm theo danh mục sản phẩm."
      ],
      "metadata": {
        "id": "Oi2ml8OgUVc1"
      }
    },
    {
      "cell_type": "code",
      "source": [
        "order_items_with_date = order_items_df.join(orders_df.select(\"Order_ID\", \"Order_Purchase_Timestamp\"), on=\"Order_ID\", how=\"inner\")\n",
        "order_items_2024 = order_items_with_date.filter(year(\"Order_Purchase_Timestamp\") == 2024)\n",
        "items_with_category = order_items_2024.join(products_df.select(\"Product_ID\", \"Product_Category_Name\"), on=\"Product_ID\", how=\"left\")\n",
        "items_with_revenue = items_with_category.withColumn(\"Revenue\", col(\"Price\") + col(\"Freight_Value\"))\n",
        "revenue_by_category = items_with_revenue.groupBy(\"Product_Category_Name\").agg(spark_sum(\"Revenue\").alias(\"Total_Revenue\")).orderBy(col(\"Total_Revenue\").desc())\n",
        "revenue_by_category.show(n=100, truncate=False)"
      ],
      "metadata": {
        "colab": {
          "base_uri": "https://localhost:8080/"
        },
        "id": "on0xD4_oTyZz",
        "outputId": "8362f5f4-2b57-44b5-9061-92d0952d674b"
      },
      "execution_count": null,
      "outputs": [
        {
          "output_type": "stream",
          "name": "stdout",
          "text": [
            "+---------------------------------------+------------------+\n",
            "|Product_Category_Name                  |Total_Revenue     |\n",
            "+---------------------------------------+------------------+\n",
            "|Health_Beauty                          |885191.119999997  |\n",
            "|Watches_Gifts                          |771986.750000001  |\n",
            "|Bed_Bath_Table                         |650794.700000002  |\n",
            "|Sports_Leisure                         |621999.3399999994 |\n",
            "|Computers_Accessories                  |594771.0400000002 |\n",
            "|Housewares                             |491576.9600000012 |\n",
            "|Furniture_Decor                        |476466.1300000007 |\n",
            "|Auto                                   |404210.5700000002 |\n",
            "|Baby                                   |299052.5599999998 |\n",
            "|Cool_Stuff                             |273910.0500000001 |\n",
            "|Garden_Tools                           |259068.31999999983|\n",
            "|Telephony                              |217452.1299999995 |\n",
            "|Perfumery                              |204562.53999999992|\n",
            "|Toys                                   |200634.07000000007|\n",
            "|Office_Furniture                       |181745.7300000001 |\n",
            "|Stationery                             |164743.84999999986|\n",
            "|Pet_Shop                               |152804.94000000012|\n",
            "|Construction_Tools_Construction        |141187.33999999985|\n",
            "|Electronics                            |134265.4499999999 |\n",
            "|Musical_Instruments                    |121476.30999999997|\n",
            "|Small_Appliances                       |97210.18          |\n",
            "|Home_Appliances_2                      |96291.60000000002 |\n",
            "|#N/A                                   |90849.48000000004 |\n",
            "|Fashion_Bags_Accessories               |85091.27999999997 |\n",
            "|Luggage_Accessories                    |77374.65000000001 |\n",
            "|Consoles_Games                         |72967.49999999997 |\n",
            "|Home_Construction                      |69357.77000000002 |\n",
            "|Computers                              |67860.8           |\n",
            "|Home_Appliances                        |66460.23999999998 |\n",
            "|Small_Appliances_Home_Oven_And_Coffee  |49297.59000000001 |\n",
            "|Agro_Industry_And_Commerce             |47262.18000000002 |\n",
            "|Construction_Tools_Lights              |43867.84000000001 |\n",
            "|Furniture_Living_Room                  |42774.14000000003 |\n",
            "|Industry_Commerce_And_Business         |37332.84000000001 |\n",
            "|Audio                                  |36258.83          |\n",
            "|Construction_Tools_Safety              |35409.3           |\n",
            "|Kitchen_Dining_Laundry_Garden_Furniture|34951.24999999999 |\n",
            "|Books_General_Interest                 |32252.79999999999 |\n",
            "|Fixed_Telephony                        |30497.86          |\n",
            "|Air_Conditioning                       |28889.119999999988|\n",
            "|Food                                   |25709.750000000007|\n",
            "|Home_Confort                           |24186.810000000005|\n",
            "|Signaling_And_Security                 |22413.09          |\n",
            "|Drinks                                 |21834.060000000012|\n",
            "|Costruction_Tools_Garden               |20492.689999999995|\n",
            "|Art                                    |17947.630000000005|\n",
            "|Books_Technical                        |16570.430000000004|\n",
            "|Furniture_Bedroom                      |13992.429999999997|\n",
            "|Costruction_Tools_Tools                |13448.200000000003|\n",
            "|Fashion_Shoes                          |10118.42          |\n",
            "|Food_Drink                             |10117.999999999998|\n",
            "|Market_Place                           |9364.009999999998 |\n",
            "|Christmas_Supplies                     |8078.5            |\n",
            "|Cine_Photo                             |7253.71           |\n",
            "|Music                                  |4994.579999999999 |\n",
            "|Books_Imported                         |4090.710000000001 |\n",
            "|Party_Supplies                         |3278.4100000000008|\n",
            "|Fashion_Underwear_Beach                |3116.21           |\n",
            "|Fashion_Male_Clothing                  |2810.4100000000003|\n",
            "|Furniture_Mattress_And_Upholstery      |2688.6399999999994|\n",
            "|Arts_And_Craftmanship                  |2008.9200000000003|\n",
            "|Diapers_And_Hygiene                    |1890.58           |\n",
            "|Dvds_Blu_Ray                           |1674.8500000000001|\n",
            "|Tablets_Printing_Image                 |1541.8300000000002|\n",
            "|Flowers                                |1216.6399999999999|\n",
            "|La_Cuisine                             |890.8499999999999 |\n",
            "|Fashio_Female_Clothing                 |783.37            |\n",
            "|Fashion_Sport                          |431.19            |\n",
            "|Home_Comfort_2                         |283.90999999999997|\n",
            "|Fashion_Childrens_Clothes              |194.04            |\n",
            "|Cds_Dvds_Musicals                      |117.58            |\n",
            "+---------------------------------------+------------------+\n",
            "\n"
          ]
        }
      ]
    },
    {
      "cell_type": "code",
      "source": [],
      "metadata": {
        "id": "0Jyu4yhnUxpI"
      },
      "execution_count": null,
      "outputs": []
    }
  ]
}