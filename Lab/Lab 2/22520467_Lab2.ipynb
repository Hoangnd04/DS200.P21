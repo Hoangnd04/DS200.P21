{
  "cells": [
    {
      "cell_type": "code",
      "execution_count": 1,
      "metadata": {
        "colab": {
          "base_uri": "https://localhost:8080/"
        },
        "id": "B2NkRgZT_e9e",
        "outputId": "ab29b59e-7078-4659-8f2b-1dd3da159921"
      },
      "outputs": [
        {
          "name": "stdout",
          "output_type": "stream",
          "text": [
            "Collecting findspark\n",
            "  Downloading findspark-2.0.1-py2.py3-none-any.whl.metadata (352 bytes)\n",
            "Downloading findspark-2.0.1-py2.py3-none-any.whl (4.4 kB)\n",
            "Installing collected packages: findspark\n",
            "Successfully installed findspark-2.0.1\n"
          ]
        }
      ],
      "source": [
        "!pip install findspark"
      ]
    },
    {
      "cell_type": "code",
      "execution_count": 2,
      "metadata": {
        "colab": {
          "base_uri": "https://localhost:8080/"
        },
        "id": "s6clFZR5ACGw",
        "outputId": "54bfb967-b93c-4082-bb9a-0fbb0f6235e9"
      },
      "outputs": [
        {
          "name": "stdout",
          "output_type": "stream",
          "text": [
            "Mounted at /content/drive\n"
          ]
        }
      ],
      "source": [
        "mount_point = \"/content/drive\"\n",
        "from google.colab import drive\n",
        "drive.mount(mount_point)"
      ]
    },
    {
      "cell_type": "code",
      "execution_count": 161,
      "metadata": {
        "id": "B8DlqQ3KAUvo"
      },
      "outputs": [],
      "source": [
        "import findspark\n",
        "findspark.init()\n",
        "import pyspark\n",
        "from pyspark.sql import SparkSession\n",
        "from pyspark.sql.functions import from_unixtime\n",
        "from datetime import datetime"
      ]
    },
    {
      "cell_type": "code",
      "execution_count": 4,
      "metadata": {
        "id": "1yTeARyaAzD7"
      },
      "outputs": [],
      "source": [
        "spark = SparkSession.builder.appName(\"Lab 2\").getOrCreate()"
      ]
    },
    {
      "cell_type": "code",
      "execution_count": 141,
      "metadata": {
        "id": "u5IJOY1zA9OR"
      },
      "outputs": [],
      "source": [
        "movies_rdd = spark.sparkContext.textFile(\"/content/drive/MyDrive/ds200/Lab2/data/movies.txt\")\n",
        "occupation_rdd = spark.sparkContext.textFile(\"/content/drive/MyDrive/ds200/Lab2/data/occupation.txt\")\n",
        "users_rdd = spark.sparkContext.textFile(\"/content/drive/MyDrive/ds200/Lab2/data/users.txt\")\n",
        "ratings_1_rdd = spark.sparkContext.textFile(\"/content/drive/MyDrive/ds200/Lab2/data/ratings_1.txt\")\n",
        "ratings_2_rdd = spark.sparkContext.textFile(\"/content/drive/MyDrive/ds200/Lab2/data/ratings_2.txt\")"
      ]
    },
    {
      "cell_type": "code",
      "execution_count": 23,
      "metadata": {
        "id": "eUAw2cxgJuWm"
      },
      "outputs": [],
      "source": [
        "ratings_rdd = ratings_1_rdd.union(ratings_2_rdd)"
      ]
    },
    {
      "cell_type": "markdown",
      "metadata": {
        "id": "iDWDGKw1Da6_"
      },
      "source": [
        "### Bài 1"
      ]
    },
    {
      "cell_type": "code",
      "execution_count": 7,
      "metadata": {
        "id": "k59rRCS7ERc9"
      },
      "outputs": [],
      "source": [
        "def parsed_movies_1(line):\n",
        "  parts = line.split(\",\")\n",
        "  movie_id = int(parts[0].strip())\n",
        "  movie_title = parts[1].strip()\n",
        "  return (movie_id, movie_title)"
      ]
    },
    {
      "cell_type": "code",
      "execution_count": 8,
      "metadata": {
        "id": "HV1aqNTBFkJ9"
      },
      "outputs": [],
      "source": [
        "def parsed_ratings_1(line):\n",
        "  parts = line.split(\",\")\n",
        "  movie_id = int(parts[1].strip())\n",
        "  rating = float(parts[2].strip())\n",
        "  return (movie_id, rating)"
      ]
    },
    {
      "cell_type": "code",
      "execution_count": 174,
      "metadata": {
        "id": "geKkV-y8HH_J"
      },
      "outputs": [],
      "source": [
        "movies_rdd_1 = movies_rdd.map(parsed_movies_1)\n",
        "ratings_rdd_1 = ratings_rdd.map(parsed_ratings_1)"
      ]
    },
    {
      "cell_type": "code",
      "execution_count": 183,
      "metadata": {
        "id": "pqtWAGh9HjgQ"
      },
      "outputs": [],
      "source": [
        "joined_rdd_1 = movies_rdd_1.join(ratings_rdd_1)"
      ]
    },
    {
      "cell_type": "code",
      "execution_count": 184,
      "metadata": {
        "id": "VewJ8dLzLWss"
      },
      "outputs": [],
      "source": [
        "movie_ratings_rdd_1 = joined_rdd_1.map(lambda x: (x[1][0], (x[1][1], 1)))\n",
        "ratings_summary_1 = movie_ratings_rdd_1.reduceByKey(lambda a, b: (a[0] + b[0], a[1] + b[1]))\n",
        "ratings_avg_1 = ratings_summary_1.mapValues(lambda x: (x[0] / x[1], x[1]))"
      ]
    },
    {
      "cell_type": "code",
      "execution_count": 185,
      "metadata": {
        "id": "rL5cB9ohN-tZ"
      },
      "outputs": [],
      "source": [
        "filtered_movies_1 = ratings_avg_1.filter(lambda x: x[1][1] >= 5)\n",
        "highest_rated_movie_1 = filtered_movies_1.takeOrdered(1, key=lambda x: -x[1][0])"
      ]
    },
    {
      "cell_type": "code",
      "execution_count": 186,
      "metadata": {
        "colab": {
          "base_uri": "https://localhost:8080/"
        },
        "id": "T_MSIJIpO949",
        "outputId": "90e1ab05-3a8d-4cf5-8a20-17e94f8adb0f"
      },
      "outputs": [
        {
          "name": "stdout",
          "output_type": "stream",
          "text": [
            "Lawrence of Arabia (1962) AverageRating: 3.44 (TotalRatings: 18)\n",
            "The Silence of the Lambs (1991) AverageRating: 3.14 (TotalRatings: 7)\n",
            "Mad Max: Fury Road (2015) AverageRating: 3.47 (TotalRatings: 18)\n",
            "The Godfather: Part II (1974) AverageRating: 4.00 (TotalRatings: 17)\n",
            "The Lord of the Rings: The Return of the King (2003) AverageRating: 3.82 (TotalRatings: 11)\n",
            "Fight Club (1999) AverageRating: 3.50 (TotalRatings: 7)\n",
            "The Terminator (1984) AverageRating: 4.06 (TotalRatings: 18)\n",
            "The Lord of the Rings: The Fellowship of the Ring (2001) AverageRating: 3.89 (TotalRatings: 18)\n",
            "The Social Network (2010) AverageRating: 3.86 (TotalRatings: 7)\n",
            "No Country for Old Men (2007) AverageRating: 3.89 (TotalRatings: 18)\n",
            "E.T. the Extra-Terrestrial (1982) AverageRating: 3.67 (TotalRatings: 18)\n",
            "Sunset Boulevard (1950) AverageRating: 4.36 (TotalRatings: 7)\n",
            "Gladiator (2000) AverageRating: 3.61 (TotalRatings: 18)\n",
            "Psycho (1960) AverageRating: 4.00 (TotalRatings: 2)\n",
            "\n",
            "Sunset Boulevard (1950) is the highest rated movie with an average rating of 4.36 among movies with at least 5 ratings.\n"
          ]
        }
      ],
      "source": [
        "for movie in ratings_avg_1.collect():\n",
        "    movie_title, (avg_rating, total_ratings) = movie\n",
        "    print(f\"{movie_title} AverageRating: {avg_rating:.2f} (TotalRatings: {total_ratings})\")\n",
        "\n",
        "print()\n",
        "\n",
        "if highest_rated_movie_1:\n",
        "    movie_title, (avg_rating, total_ratings) = highest_rated_movie_1[0]\n",
        "    print(f\"{movie_title} is the highest rated movie with an average rating of {avg_rating:.2f} among movies with at least 5 ratings.\")\n",
        "else:\n",
        "    print(\"No movie meets the criteria.\")"
      ]
    },
    {
      "cell_type": "markdown",
      "metadata": {
        "id": "P2cA1r6fPesc"
      },
      "source": [
        "### Bài 2"
      ]
    },
    {
      "cell_type": "code",
      "execution_count": 72,
      "metadata": {
        "id": "YI9PZxKKPgKM"
      },
      "outputs": [],
      "source": [
        "def parsed_movies_2(line):\n",
        "  parts = line.split(\",\")\n",
        "  movie_id = int(parts[0].strip())\n",
        "  movie_genre = parts[2].strip().split(\"|\")\n",
        "  return (movie_id, movie_genre)"
      ]
    },
    {
      "cell_type": "code",
      "execution_count": 73,
      "metadata": {
        "id": "UeGRSFDcQP1C"
      },
      "outputs": [],
      "source": [
        "def parsed_ratings_2(line):\n",
        "  parts = line.split(\",\")\n",
        "  movie_id = int(parts[1].strip())\n",
        "  rating = float(parts[2].strip())\n",
        "  return (movie_id, rating)"
      ]
    },
    {
      "cell_type": "code",
      "execution_count": 74,
      "metadata": {
        "id": "wZSuipwKR5fp"
      },
      "outputs": [],
      "source": [
        "movies_rdd_2 = movies_rdd.map(parsed_movies_2)\n",
        "ratings_rdd_2 = ratings_rdd.map(parsed_ratings_2)"
      ]
    },
    {
      "cell_type": "code",
      "execution_count": 75,
      "metadata": {
        "id": "v9qwnROHSz-u"
      },
      "outputs": [],
      "source": [
        "movies_rdd_2_flat = movies_rdd_2.flatMap(lambda x: [(x[0], genre) for genre in x[1]])\n",
        "joined_rdd_2 = movies_rdd_2_flat.join(ratings_rdd_2)"
      ]
    },
    {
      "cell_type": "code",
      "execution_count": 76,
      "metadata": {
        "id": "-by5eNc2Sa91"
      },
      "outputs": [],
      "source": [
        "genre_ratings_rdd_2 = joined_rdd_2.map(lambda x: (x[1][0], (x[1][1], 1)))\n",
        "ratings_summary_2 = genre_ratings_rdd_2.reduceByKey(lambda a, b: (a[0] + b[0], a[1] + b[1]))\n",
        "ratings_avg_2 = ratings_summary_2.mapValues(lambda x: (x[0]/x[1], x[1]))"
      ]
    },
    {
      "cell_type": "code",
      "execution_count": 77,
      "metadata": {
        "colab": {
          "base_uri": "https://localhost:8080/"
        },
        "id": "rtvVFTEhTpeE",
        "outputId": "95dd0144-f81f-4e6f-b8eb-cd151381bf8e"
      },
      "outputs": [
        {
          "name": "stdout",
          "output_type": "stream",
          "text": [
            "Sci-Fi - AverageRating: 3.73 (TotalRatings: 54)\n",
            "Action - AverageRating: 3.71 (TotalRatings: 54)\n",
            "Drama - AverageRating: 3.76 (TotalRatings: 128)\n",
            "Family - AverageRating: 3.67 (TotalRatings: 18)\n",
            "Biography - AverageRating: 3.56 (TotalRatings: 25)\n",
            "Horror - AverageRating: 4.00 (TotalRatings: 2)\n",
            "Fantasy - AverageRating: 3.86 (TotalRatings: 29)\n",
            "Mystery - AverageRating: 4.00 (TotalRatings: 2)\n",
            "Thriller - AverageRating: 3.70 (TotalRatings: 27)\n",
            "Adventure - AverageRating: 3.63 (TotalRatings: 83)\n",
            "Film-Noir - AverageRating: 4.36 (TotalRatings: 7)\n",
            "Crime - AverageRating: 3.81 (TotalRatings: 42)\n"
          ]
        }
      ],
      "source": [
        "for genre in ratings_avg_2.collect():\n",
        "    movie_genre, (avg_rating, total_ratings) = genre\n",
        "    print(f\"{movie_genre} - AverageRating: {avg_rating:.2f} (TotalRatings: {total_ratings})\")"
      ]
    },
    {
      "cell_type": "markdown",
      "metadata": {
        "id": "wnXjon57UPzR"
      },
      "source": [
        "### Bài 3"
      ]
    },
    {
      "cell_type": "code",
      "execution_count": 115,
      "metadata": {
        "id": "yqEtI4siURI8"
      },
      "outputs": [],
      "source": [
        "def parsed_movies_3(line):\n",
        "  parts = line.split(\",\")\n",
        "  movie_id = int(parts[0].strip())\n",
        "  movie_title = parts[1].strip()\n",
        "  return (movie_id, movie_title)"
      ]
    },
    {
      "cell_type": "code",
      "execution_count": 116,
      "metadata": {
        "id": "mGYBPq2cW1Jf"
      },
      "outputs": [],
      "source": [
        "def parsed_ratings_3(line):\n",
        "  parts = line.split(\",\")\n",
        "  user_id = int(parts[0].strip())\n",
        "  movie_id = int(parts[1].strip())\n",
        "  rating = float(parts[2].strip())\n",
        "  return (user_id, (movie_id, rating))"
      ]
    },
    {
      "cell_type": "code",
      "execution_count": 117,
      "metadata": {
        "id": "fBWV6tDrXInu"
      },
      "outputs": [],
      "source": [
        "def parsed_users_3(line):\n",
        "  parts = line.split(\",\")\n",
        "  user_id = int(parts[0].strip())\n",
        "  user_gender = parts[1].strip()\n",
        "  return (user_id, user_gender)"
      ]
    },
    {
      "cell_type": "code",
      "execution_count": 118,
      "metadata": {
        "id": "Ogmrkt_gaQ6l"
      },
      "outputs": [],
      "source": [
        "movies_rdd_3 = movies_rdd.map(parsed_movies_3)\n",
        "ratings_rdd_3 = ratings_rdd.map(parsed_ratings_3)\n",
        "users_rdd_3 = users_rdd.map(parsed_users_3)"
      ]
    },
    {
      "cell_type": "code",
      "execution_count": 119,
      "metadata": {
        "id": "4L7vNQnEam2h"
      },
      "outputs": [],
      "source": [
        "users_ratings_3 = users_rdd_3.join(ratings_rdd_3)\n",
        "users_ratings_3 = users_ratings_3.map(lambda x: (x[1][1][0],(x[1][0], x[1][1][1])))\n",
        "joined_rdd_3 = movies_rdd_3.join(users_ratings_3)\n",
        "movie_ratings_rdd_3 = joined_rdd_3.map(lambda x: ((x[1][0], x[1][1][0]), (x[1][1][1], 1)))"
      ]
    },
    {
      "cell_type": "code",
      "execution_count": 120,
      "metadata": {
        "id": "4BgxI9EMdj51"
      },
      "outputs": [],
      "source": [
        "ratings_summary_3 = movie_ratings_rdd_3.reduceByKey(lambda a, b: (a[0] + b[0], a[1] + b[1]))\n",
        "ratings_avg_3 = ratings_summary_3.map(lambda x: (x[0][0], (x[0][1], x[1][0]/x[1][1])))\n",
        "output_3 = ratings_avg_3.groupByKey().mapValues(lambda values: {\"M\": None, \"F\": None, **dict(values)}).mapValues(lambda d: (d[\"M\"], d[\"F\"]))"
      ]
    },
    {
      "cell_type": "code",
      "execution_count": 121,
      "metadata": {
        "colab": {
          "base_uri": "https://localhost:8080/"
        },
        "id": "vaS3ez6zg68d",
        "outputId": "6428ebd1-29ab-42a8-ddda-5d360990d9b6"
      },
      "outputs": [
        {
          "name": "stdout",
          "output_type": "stream",
          "text": [
            "The Social Network (2010) - Male_Avg: 4.00, Female_Avg: 3.67\n",
            "Lawrence of Arabia (1962) - Male_Avg: 3.55, Female_Avg: 3.31\n",
            "No Country for Old Men (2007) - Male_Avg: 3.92, Female_Avg: 3.83\n",
            "The Silence of the Lambs (1991) - Male_Avg: 3.33, Female_Avg: 3.00\n",
            "Gladiator (2000) - Male_Avg: 3.59, Female_Avg: 3.64\n",
            "Mad Max: Fury Road (2015) - Male_Avg: 4.00, Female_Avg: 3.32\n",
            "The Godfather: Part II (1974) - Male_Avg: 4.06, Female_Avg: 3.94\n",
            "The Lord of the Rings: The Fellowship of the Ring (2001) - Male_Avg: 4.00, Female_Avg: 3.80\n",
            "The Lord of the Rings: The Return of the King (2003) - Male_Avg: 3.75, Female_Avg: 3.90\n",
            "Psycho (1960) - Male_Avg: NA, Female_Avg: 4.00\n",
            "The Terminator (1984) - Male_Avg: 3.93, Female_Avg: 4.14\n",
            "E.T. the Extra-Terrestrial (1982) - Male_Avg: 3.81, Female_Avg: 3.55\n",
            "Fight Club (1999) - Male_Avg: 3.50, Female_Avg: 3.50\n",
            "Sunset Boulevard (1950) - Male_Avg: 4.33, Female_Avg: 4.50\n"
          ]
        }
      ],
      "source": [
        "for temp in output_3.collect():\n",
        "    movie_title, (male_avg_rating, female_avg_rating) = temp\n",
        "    male_avg_str = f\"{male_avg_rating:.2f}\" if male_avg_rating is not None else \"NA\"\n",
        "    female_avg_str = f\"{female_avg_rating:.2f}\" if female_avg_rating is not None else \"NA\"\n",
        "    print(f\"{movie_title} - Male_Avg: {male_avg_str}, Female_Avg: {female_avg_str}\")"
      ]
    },
    {
      "cell_type": "markdown",
      "metadata": {
        "id": "6yQkERS1jFKu"
      },
      "source": [
        "### Bài 4"
      ]
    },
    {
      "cell_type": "code",
      "execution_count": 122,
      "metadata": {
        "id": "5i9rWFWJjGb9"
      },
      "outputs": [],
      "source": [
        "def parsed_movies_4(line):\n",
        "  parts = line.split(\",\")\n",
        "  movie_id = int(parts[0].strip())\n",
        "  movie_title = parts[1].strip()\n",
        "  return (movie_id, movie_title)"
      ]
    },
    {
      "cell_type": "code",
      "execution_count": 123,
      "metadata": {
        "id": "xsV6LNW8jnrK"
      },
      "outputs": [],
      "source": [
        "def parsed_ratings_4(line):\n",
        "  parts = line.split(\",\")\n",
        "  user_id = int(parts[0].strip())\n",
        "  movie_id = int(parts[1].strip())\n",
        "  rating = float(parts[2].strip())\n",
        "  return (user_id, (movie_id, rating))"
      ]
    },
    {
      "cell_type": "code",
      "execution_count": 124,
      "metadata": {
        "id": "6ziEjUgVjpqe"
      },
      "outputs": [],
      "source": [
        "def parsed_users_4(line):\n",
        "  parts = line.split(\",\")\n",
        "  user_id = int(parts[0].strip())\n",
        "  user_age = parts[2].strip()\n",
        "  return (user_id, user_age)"
      ]
    },
    {
      "cell_type": "code",
      "execution_count": 125,
      "metadata": {
        "id": "sw9xbq_Goxp3"
      },
      "outputs": [],
      "source": [
        "def map_age_group(user_data):\n",
        "    user_id, age = user_data\n",
        "    age = int(age)\n",
        "    if age <= 18:\n",
        "        return (user_id, \"0-18\")\n",
        "    elif age <= 35:\n",
        "        return (user_id, \"18-35\")\n",
        "    elif age <= 50:\n",
        "        return (user_id, \"35-50\")\n",
        "    else:\n",
        "        return (user_id, \"50+\")"
      ]
    },
    {
      "cell_type": "code",
      "execution_count": 134,
      "metadata": {
        "id": "cQ9JgCr0nwb6"
      },
      "outputs": [],
      "source": [
        "movies_rdd_4 = movies_rdd.map(parsed_movies_4)\n",
        "ratings_rdd_4 = ratings_rdd.map(parsed_ratings_4)\n",
        "users_rdd_4 = users_rdd.map(parsed_users_4)\n",
        "users_rdd_4_grouped = users_rdd_4.map(map_age_group)"
      ]
    },
    {
      "cell_type": "code",
      "execution_count": 135,
      "metadata": {
        "id": "fo0urxZOobfo"
      },
      "outputs": [],
      "source": [
        "users_ratings_4 = users_rdd_4_grouped.join(ratings_rdd_3)\n",
        "users_ratings_4 = users_ratings_4.map(lambda x: (x[1][1][0],(x[1][0], x[1][1][1])))\n",
        "joined_rdd_4 = movies_rdd_4.join(users_ratings_4)\n",
        "movie_ratings_rdd_4 = joined_rdd_4.map(lambda x: ((x[1][0], x[1][1][0]), (x[1][1][1], 1)))"
      ]
    },
    {
      "cell_type": "code",
      "execution_count": 136,
      "metadata": {
        "id": "cf1ZcpfvpHOG"
      },
      "outputs": [],
      "source": [
        "ratings_summary_4 = movie_ratings_rdd_4.reduceByKey(lambda a, b: (a[0] + b[0], a[1] + b[1]))\n",
        "ratings_avg_4 = ratings_summary_4.map(lambda x: (x[0][0], (x[0][1], x[1][0]/x[1][1])))\n",
        "output_4 = ratings_avg_4.groupByKey().mapValues(lambda values: {\"0-18\": None, \"18-35\": None, \"35-50\": None, \"50+\": None, **dict(values)}).mapValues(lambda d: (d[\"0-18\"], d[\"18-35\"], d[\"35-50\"], d[\"50+\"]))"
      ]
    },
    {
      "cell_type": "code",
      "execution_count": 137,
      "metadata": {
        "colab": {
          "base_uri": "https://localhost:8080/"
        },
        "id": "4XHzl0MurZ-k",
        "outputId": "ae503079-2597-4d96-a60c-78c7467e9be6"
      },
      "outputs": [
        {
          "name": "stdout",
          "output_type": "stream",
          "text": [
            "The Social Network (2010) - [0-18: NA, 18-35: 4.00, 35-50: 3.67, 50+: NA]\n",
            "Lawrence of Arabia (1962) - [0-18: NA, 18-35: 3.60, 35-50: 3.29, 50+: 4.50]\n",
            "No Country for Old Men (2007) - [0-18: NA, 18-35: 3.81, 35-50: 3.94, 50+: 4.00]\n",
            "The Silence of the Lambs (1991) - [0-18: NA, 18-35: 3.00, 35-50: 3.25, 50+: NA]\n",
            "Gladiator (2000) - [0-18: NA, 18-35: 3.44, 35-50: 3.81, 50+: 3.50]\n",
            "Mad Max: Fury Road (2015) - [0-18: NA, 18-35: 3.36, 35-50: 3.64, 50+: NA]\n",
            "Psycho (1960) - [0-18: NA, 18-35: 4.50, 35-50: 3.50, 50+: NA]\n",
            "The Godfather: Part II (1974) - [0-18: NA, 18-35: 3.78, 35-50: 4.25, 50+: NA]\n",
            "The Lord of the Rings: The Fellowship of the Ring (2001) - [0-18: NA, 18-35: 4.00, 35-50: 3.83, 50+: NA]\n",
            "The Lord of the Rings: The Return of the King (2003) - [0-18: NA, 18-35: 3.83, 35-50: 3.81, 50+: NA]\n",
            "The Terminator (1984) - [0-18: NA, 18-35: 4.17, 35-50: 4.05, 50+: 3.75]\n",
            "E.T. the Extra-Terrestrial (1982) - [0-18: NA, 18-35: 3.56, 35-50: 3.83, 50+: 3.00]\n",
            "Fight Club (1999) - [0-18: NA, 18-35: 3.50, 35-50: 3.50, 50+: 3.50]\n",
            "Sunset Boulevard (1950) - [0-18: NA, 18-35: 4.17, 35-50: 4.50, 50+: NA]\n"
          ]
        }
      ],
      "source": [
        "for temp in output_4.collect():\n",
        "    movie_title, (age_0_18, age_18_35, age_35_50, age_50_plus) = temp\n",
        "    age_0_18_str = f\"{age_0_18:.2f}\" if age_0_18 is not None else \"NA\"\n",
        "    age_18_35_str = f\"{age_18_35:.2f}\" if age_18_35 is not None else \"NA\"\n",
        "    age_35_50_str = f\"{age_35_50:.2f}\" if age_35_50 is not None else \"NA\"\n",
        "    age_50_plus_str = f\"{age_50_plus:.2f}\" if age_50_plus is not None else \"NA\"\n",
        "    print(f\"{movie_title} - [0-18: {age_0_18_str}, 18-35: {age_18_35_str}, 35-50: {age_35_50_str}, 50+: {age_50_plus_str}]\")"
      ]
    },
    {
      "cell_type": "markdown",
      "metadata": {
        "id": "nrmAaPI1sABT"
      },
      "source": [
        "### Bài 5"
      ]
    },
    {
      "cell_type": "code",
      "execution_count": 154,
      "metadata": {
        "id": "_d0Cbp3brrJC"
      },
      "outputs": [],
      "source": [
        "def parsed_users_5(line):\n",
        "  parts = line.split(\",\")\n",
        "  user_id = int(parts[0].strip())\n",
        "  occupation_id = int(parts[3].strip())\n",
        "  return (occupation_id, user_id)"
      ]
    },
    {
      "cell_type": "code",
      "execution_count": 155,
      "metadata": {
        "id": "K3UWi0HtsUB0"
      },
      "outputs": [],
      "source": [
        "def parsed_ratings_5(line):\n",
        "  parts = line.split(\",\")\n",
        "  user_id = int(parts[0].strip())\n",
        "  rating = float(parts[2].strip())\n",
        "  return (user_id, rating)"
      ]
    },
    {
      "cell_type": "code",
      "execution_count": 156,
      "metadata": {
        "id": "0l_6Sty5ssqo"
      },
      "outputs": [],
      "source": [
        "def parsed_occupation_5(line):\n",
        "  parts = line.split(\",\")\n",
        "  occupation_id = int(parts[0].strip())\n",
        "  occupation = parts[1].strip()\n",
        "  return (occupation_id, occupation)"
      ]
    },
    {
      "cell_type": "code",
      "execution_count": 157,
      "metadata": {
        "id": "Za2HNNkdtSUa"
      },
      "outputs": [],
      "source": [
        "occupation_rdd_5 = occupation_rdd.map(parsed_occupation_5)\n",
        "ratings_rdd_5 = ratings_rdd.map(parsed_ratings_5)\n",
        "users_rdd_5 = users_rdd.map(parsed_users_5)"
      ]
    },
    {
      "cell_type": "code",
      "execution_count": 158,
      "metadata": {
        "id": "NIQootKvtXGh"
      },
      "outputs": [],
      "source": [
        "users_occupation_rdd_5 = users_rdd_5.join(occupation_rdd_5).map(lambda x: (x[1][0], x[1][1]))\n",
        "occupation_ratings_5 = users_occupation_rdd_5.join(ratings_rdd_5).map(lambda x: (x[1][0], (x[1][1], 1)))\n",
        "ratings_summary_5 = occupation_ratings_5.reduceByKey(lambda a, b: (a[0] + b[0], a[1] + b[1]))\n",
        "ratings_avg_5 = ratings_summary_5.mapValues(lambda x: (x[0] / x[1], x[1]))"
      ]
    },
    {
      "cell_type": "code",
      "execution_count": 159,
      "metadata": {
        "colab": {
          "base_uri": "https://localhost:8080/"
        },
        "id": "AyMybAojvqhf",
        "outputId": "d55de026-841e-4757-b697-dba5577f6c4d"
      },
      "outputs": [
        {
          "name": "stdout",
          "output_type": "stream",
          "text": [
            "Consultant - AverageRating: 3.86 (TotalRatings: 14)\n",
            "Salesperson - AverageRating: 3.65 (TotalRatings: 17)\n",
            "Engineer - AverageRating: 3.56 (TotalRatings: 18)\n",
            "Manager - AverageRating: 3.47 (TotalRatings: 16)\n",
            "Designer - AverageRating: 4.00 (TotalRatings: 13)\n",
            "Doctor - AverageRating: 3.69 (TotalRatings: 21)\n",
            "Artist - AverageRating: 3.73 (TotalRatings: 11)\n",
            "Teacher - AverageRating: 3.70 (TotalRatings: 5)\n",
            "Journalist - AverageRating: 3.85 (TotalRatings: 17)\n",
            "Lawyer - AverageRating: 3.65 (TotalRatings: 17)\n",
            "Nurse - AverageRating: 3.86 (TotalRatings: 11)\n",
            "Student - AverageRating: 4.00 (TotalRatings: 8)\n",
            "Accountant - AverageRating: 3.58 (TotalRatings: 6)\n",
            "Programmer - AverageRating: 4.25 (TotalRatings: 10)\n"
          ]
        }
      ],
      "source": [
        "for temp in ratings_avg_5.collect():\n",
        "    occupation, (avg_rating, total_ratings) = temp\n",
        "    print(f\"{occupation} - AverageRating: {avg_rating:.2f} (TotalRatings: {total_ratings})\")"
      ]
    },
    {
      "cell_type": "markdown",
      "metadata": {
        "id": "y4I5q8OowYsL"
      },
      "source": [
        "### Bài 6"
      ]
    },
    {
      "cell_type": "code",
      "execution_count": 162,
      "metadata": {
        "id": "gpB0C_KavsHN"
      },
      "outputs": [],
      "source": [
        "def parsed_ratings_6(line):\n",
        "  parts = line.split(\",\")\n",
        "  timestamp = int(parts[3].strip())\n",
        "  year = datetime.utcfromtimestamp(timestamp).year\n",
        "  rating = float(parts[2].strip())\n",
        "  return (year, (rating, 1))"
      ]
    },
    {
      "cell_type": "code",
      "execution_count": 179,
      "metadata": {
        "id": "mBQ-kljCxTiB"
      },
      "outputs": [],
      "source": [
        "ratings_rdd_6 = ratings_rdd.map(parsed_ratings_6)\n",
        "ratings_summary_6 = ratings_rdd_6.reduceByKey(lambda a, b: (a[0] + b[0], a[1] + b[1]))\n",
        "ratings_avg_6 = ratings_summary_6.mapValues(lambda x: (x[0] / x[1], x[1]))"
      ]
    },
    {
      "cell_type": "code",
      "execution_count": 182,
      "metadata": {
        "colab": {
          "base_uri": "https://localhost:8080/"
        },
        "id": "9ZChpJE1xb0S",
        "outputId": "2b452c25-fd65-445d-fc81-c10422afca6f"
      },
      "outputs": [
        {
          "name": "stdout",
          "output_type": "stream",
          "text": [
            "2020 - TotalRatings: 184, AverageRating: 3.75\n"
          ]
        }
      ],
      "source": [
        "for year, (avg_rating, total_ratings) in ratings_avg_6.collect():\n",
        "    print(f\"{year} - TotalRatings: {total_ratings}, AverageRating: {avg_rating:.2f}\")"
      ]
    }
  ],
  "metadata": {
    "colab": {
      "provenance": []
    },
    "kernelspec": {
      "display_name": "Python 3",
      "name": "python3"
    },
    "language_info": {
      "name": "python",
      "version": "3.10.0"
    }
  },
  "nbformat": 4,
  "nbformat_minor": 0
}
